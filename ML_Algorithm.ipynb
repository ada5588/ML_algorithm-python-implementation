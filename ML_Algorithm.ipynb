{
 "cells": [
  {
   "cell_type": "code",
   "execution_count": 1,
   "id": "d2f40f27",
   "metadata": {},
   "outputs": [],
   "source": [
    "import numpy as np\n",
    "from scipy.optimize import curve_fit"
   ]
  },
  {
   "cell_type": "code",
   "execution_count": 2,
   "id": "68102eb8",
   "metadata": {},
   "outputs": [],
   "source": [
    "# For data visualization\n",
    "from matplotlib import pyplot as plt"
   ]
  },
  {
   "cell_type": "markdown",
   "id": "73f5f234",
   "metadata": {},
   "source": [
    "#### Section 1_Finding the homography matrix"
   ]
  },
  {
   "cell_type": "code",
   "execution_count": 17,
   "id": "6096d917",
   "metadata": {},
   "outputs": [],
   "source": [
    "# Value function\n",
    "def VAL(dataX, *h):\n",
    "    \n",
    "    n = dataX.shape[0]//2  # get the number of input points\n",
    "    X = dataX[:n]\n",
    "    Y = np.zeros(2*n) #create a ne factor of length 2n\n",
    "    h0, h1, h2, h3, h4, h5, h6, h7, h8 = h\n",
    "    x = X[:, 0]\n",
    "    y = X[:, 1]\n",
    "    w = h6*x+h7*y+h8\n",
    "    u = (h0*x+h1*y+h2)/w\n",
    "    v = (h3*x+h4*y+h5)/w\n",
    "    Y[:n] = u\n",
    "    Y[n:] = v\n",
    "    \n",
    "    return Y"
   ]
  },
  {
   "cell_type": "code",
   "execution_count": 25,
   "id": "1030df44",
   "metadata": {},
   "outputs": [],
   "source": [
    "# Jacobian matrix\n",
    "def Jac(dataX, *h):\n",
    "    \n",
    "    h0, h1, h2, h3, h4, h5, h6, h7, h8 = h\n",
    "    n = dataX.shape[0]//2\n",
    "    X = dataX[:n]\n",
    "    J = np.zeros((2*n, 9))\n",
    "    x = X[:, 0]\n",
    "    y = X[:, 1]\n",
    "    w = h6*x+h7*y+h8\n",
    "    sx = (h0*x+h1*y+h2)\n",
    "    sy = (h3*x+h4*y+h5)\n",
    "    J[:n, :3] = np.array([x/w, y/x, 1/w]).T\n",
    "    J[:n, 6:] = np.array([-sx*x/w**2, -sx*y/w**2, -sx/w**2]).T\n",
    "    J[n:, 3:] = np.array([x/w, y/w, 1/w, -sy*x/w**2, -sy*y/w**2, -sy/w**2]).T\n",
    "    \n",
    "    return J\n"
   ]
  },
  {
   "cell_type": "code",
   "execution_count": 5,
   "id": "8312866a",
   "metadata": {},
   "outputs": [
    {
     "data": {
      "text/plain": [
       "array([[-7.05018219,  1.12583832,  0.82308613],\n",
       "       [ 1.49382461, -3.29137072, -5.59846767],\n",
       "       [ 2.92648262,  4.74322243, -5.01959039]])"
      ]
     },
     "execution_count": 5,
     "metadata": {},
     "output_type": "execute_result"
    }
   ],
   "source": [
    "# ground truth matrix\n",
    "sample_H = np.random.rand(3,3)\n",
    "sample_H = (sample_H - .5) * 15\n",
    "sample_H"
   ]
  },
  {
   "cell_type": "code",
   "execution_count": 64,
   "id": "c71897ac",
   "metadata": {},
   "outputs": [],
   "source": [
    "# Generate 50 independent data points Xi=(xi, yi, 1)\n",
    "X = (np.random.rand(50, 3) -.5) * 10\n",
    "X[:, -1] = 1\n",
    "# Generate 50 'observed' dependent data points Yi=(u_i, v_i) \n",
    "Y_observed = (np.dot(sample_H, X.T)).T\n",
    "Y_observed = Y_observed[:, :2]/Y_observed[:, [-1]] \n",
    "# Format Y_absorved as a vector (u_X1, u_X2,..., u_X50, v_X1, v_X2,..., v_X50) and add some noise to it\n",
    "Y_observed = np.ravel(Y_observed, order='F')+np.random.normal(0, 1, 100)\n"
   ]
  },
  {
   "cell_type": "code",
   "execution_count": 65,
   "id": "7e426da5",
   "metadata": {},
   "outputs": [],
   "source": [
    "# Set the initial parameter\n",
    "init_h = np.ravel(sample_H)+np.random.normal(0, 0.01, 9)\n",
    "# Each independent data point maps to 2 dependent values (u_Xi, v_Xi),\n",
    "# Stacking inputX makes the model look like one to one mapping\n",
    "inputX = np.vstack((X[:,:2],X[:,:2]))\n",
    "# Perform LM_algorithm\n",
    "popt, pcov = curve_fit(VAL, inputX, Y_observed, p0=init_h, method='lm', jac=Jac)"
   ]
  },
  {
   "cell_type": "code",
   "execution_count": 66,
   "id": "f3d6280e",
   "metadata": {
    "scrolled": false
   },
   "outputs": [
    {
     "data": {
      "text/plain": [
       "array([-6.04604995,  0.87405252, -0.18655843,  1.37956138, -2.47300873,\n",
       "       -4.82005716,  2.60713867,  4.22040085, -4.47363446])"
      ]
     },
     "execution_count": 66,
     "metadata": {},
     "output_type": "execute_result"
    }
   ],
   "source": [
    "# The parameters found\n",
    "popt"
   ]
  },
  {
   "cell_type": "code",
   "execution_count": 67,
   "id": "78437db7",
   "metadata": {
    "scrolled": true
   },
   "outputs": [
    {
     "data": {
      "text/plain": [
       "array([[ 2.28117409e+01, -2.57124450e-02, -2.41796001e+00,\n",
       "        -4.77337171e+00,  8.53249319e+00,  1.66395713e+01,\n",
       "        -9.07130810e+00, -1.46829192e+01,  1.55672968e+01],\n",
       "       [-2.57124450e-02,  5.06738923e-04,  2.55501330e-03,\n",
       "         5.36989312e-03, -9.59356014e-03, -1.86931949e-02,\n",
       "         1.02043716e-02,  1.65163461e-02, -1.75102200e-02],\n",
       "       [-2.41796001e+00,  2.55501330e-03,  5.36148871e-01,\n",
       "         5.12705239e-01, -9.27767998e-01, -1.82054009e+00,\n",
       "         9.60967709e-01,  1.55636510e+00, -1.65001157e+00],\n",
       "       [-4.77337171e+00,  5.36989312e-03,  5.12705239e-01,\n",
       "         1.14192755e+00, -1.55835488e+00, -3.73618481e+00,\n",
       "         1.89869290e+00,  3.07326554e+00, -3.25839770e+00],\n",
       "       [ 8.53249319e+00, -9.59356014e-03, -9.27767998e-01,\n",
       "        -1.55835488e+00,  3.56154454e+00,  5.82733849e+00,\n",
       "        -3.39273456e+00, -5.49161247e+00,  5.82233120e+00],\n",
       "       [ 1.66395713e+01, -1.86931949e-02, -1.82054009e+00,\n",
       "        -3.73618481e+00,  5.82733849e+00,  1.26082437e+01,\n",
       "        -6.61819614e+00, -1.07124819e+01,  1.13577446e+01],\n",
       "       [-9.07130810e+00,  1.02043716e-02,  9.60967709e-01,\n",
       "         1.89869290e+00, -3.39273456e+00, -6.61819614e+00,\n",
       "         3.61172152e+00,  5.84591085e+00, -6.19832181e+00],\n",
       "       [-1.46829192e+01,  1.65163461e-02,  1.55636510e+00,\n",
       "         3.07326554e+00, -5.49161247e+00, -1.07124819e+01,\n",
       "         5.84591085e+00,  9.46216061e+00, -1.00325662e+01],\n",
       "       [ 1.55672968e+01, -1.75102200e-02, -1.65001157e+00,\n",
       "        -3.25839770e+00,  5.82233120e+00,  1.13577446e+01,\n",
       "        -6.19832181e+00, -1.00325662e+01,  1.06373793e+01]])"
      ]
     },
     "execution_count": 67,
     "metadata": {},
     "output_type": "execute_result"
    }
   ],
   "source": [
    "# The covariance matrix for the parameters found\n",
    "pcov"
   ]
  },
  {
   "cell_type": "code",
   "execution_count": 68,
   "id": "ce308d85",
   "metadata": {},
   "outputs": [
    {
     "data": {
      "text/plain": [
       "array([4.77616383, 0.02251086, 0.73222187, 1.0686101 , 1.88720548,\n",
       "       3.55080888, 1.90045298, 3.07606252, 3.26149954])"
      ]
     },
     "execution_count": 68,
     "metadata": {},
     "output_type": "execute_result"
    }
   ],
   "source": [
    "# The standard deviation errors of the parameters found\n",
    "perr = np.sqrt(np.diag(pcov))\n",
    "perr"
   ]
  },
  {
   "cell_type": "code",
   "execution_count": 69,
   "id": "31a98475",
   "metadata": {
    "scrolled": true
   },
   "outputs": [],
   "source": [
    "# Generate Y with parameters found\n",
    "z = VAL(inputX, -6.04604995,  0.87405252, -0.18655843,  1.37956138, -2.47300873,\n",
    "       -4.82005716,  2.60713867,  4.22040085, -4.47363446)"
   ]
  },
  {
   "cell_type": "code",
   "execution_count": 70,
   "id": "c317b66b",
   "metadata": {},
   "outputs": [],
   "source": [
    "# Ground truth Y \n",
    "y = VAL(inputX, -7.05018219,  1.12583832,  0.82308613,\n",
    "       1.49382461, -3.29137072, -5.59846767,\n",
    "       2.92648262,  4.74322243, -5.01959039)"
   ]
  },
  {
   "cell_type": "code",
   "execution_count": 71,
   "id": "d8575e37",
   "metadata": {},
   "outputs": [
    {
     "data": {
      "text/plain": [
       "<function matplotlib.pyplot.show(close=None, block=None)>"
      ]
     },
     "execution_count": 71,
     "metadata": {},
     "output_type": "execute_result"
    },
    {
     "data": {
      "image/png": "[encoded data removed]",
      "text/plain": [
       "<Figure size 432x288 with 1 Axes>"
      ]
     },
     "metadata": {
      "needs_background": "light"
     },
     "output_type": "display_data"
    }
   ],
   "source": [
    "# Plot the ground truth and the dependent data generated with parameters found in sequence\n",
    "r = np.linspace(0, 100, 100)\n",
    "plt.figure(0)\n",
    "plt.scatter(r, y ,s=15, c='y', label='ground truth')\n",
    "plt.scatter(r, z, s=3, label='dependent data from parameters found')\n",
    "plt.legend()\n",
    "plt.xlabel('index')\n",
    "plt.ylabel('values in dependent data Y')\n",
    "plt.show"
   ]
  },
  {
   "cell_type": "markdown",
   "id": "a4ab6c23",
   "metadata": {},
   "source": [
    "#### Section2_Finding parameters for an Exponential function"
   ]
  },
  {
   "cell_type": "code",
   "execution_count": 72,
   "id": "a7977f4a",
   "metadata": {},
   "outputs": [],
   "source": [
    "# ground truth parameter\n",
    "a1, b1, c1 = 2.1, 1, 3.5\n",
    "# generate 100 independent data x\n",
    "x = np.random.rand(100,)\n",
    "# generate the 'observed' data y with noise\n",
    "y = [np.exp(a1*i**2+b1*i+c1)+random.gauss(0,4) for i in x]"
   ]
  },
  {
   "cell_type": "code",
   "execution_count": 73,
   "id": "afe31551",
   "metadata": {},
   "outputs": [],
   "source": [
    "# Value function\n",
    "def VAL(dataX, *h):\n",
    "    a, b, c = h\n",
    "    return np.exp(a*dataX**2+b*dataX+c)"
   ]
  },
  {
   "cell_type": "code",
   "execution_count": 74,
   "id": "c706e21e",
   "metadata": {},
   "outputs": [],
   "source": [
    "# Jacobian matrix\n",
    "def Jac(dataX, *h):\n",
    "    a, b, c = h\n",
    "    n = len(dataX)\n",
    "    J = np.zeros((n, 3))\n",
    "    # partial derivative with respect to a\n",
    "    J[:, 0] = np.exp(a*dataX**2+b*dataX+c)*dataX**2\n",
    "    # partial derivative with respect to b\n",
    "    J[:, 1] = np.exp(a*dataX**2+b*dataX+c)*dataX\n",
    "    # partial derivative with respect to c\n",
    "    J[:, 2] = np.exp(a*dataX**2+b*dataX+c)\n",
    "    \n",
    "    return J"
   ]
  },
  {
   "cell_type": "code",
   "execution_count": 75,
   "id": "98d79bf2",
   "metadata": {},
   "outputs": [],
   "source": [
    "# Set the initial parameters\n",
    "init_h = np.random.rand(3) * 10\n",
    "# Perform LM_algorithm\n",
    "popt, pcov = curve_fit(VAL, x, y, p0=init_h, method='lm', jac=Jac)"
   ]
  },
  {
   "cell_type": "code",
   "execution_count": 76,
   "id": "44fe0786",
   "metadata": {},
   "outputs": [
    {
     "data": {
      "text/plain": [
       "array([2.03204003, 1.11106133, 3.45599143])"
      ]
     },
     "execution_count": 76,
     "metadata": {},
     "output_type": "execute_result"
    }
   ],
   "source": [
    "# Parameters found\n",
    "popt"
   ]
  },
  {
   "cell_type": "code",
   "execution_count": 77,
   "id": "10ef92d5",
   "metadata": {},
   "outputs": [
    {
     "data": {
      "text/plain": [
       "array([0.04498819, 0.06657303, 0.02428414])"
      ]
     },
     "execution_count": 77,
     "metadata": {},
     "output_type": "execute_result"
    }
   ],
   "source": [
    "# The standard deviation errors of the parameters found\n",
    "perr = np.sqrt(np.diag(pcov))\n",
    "perr"
   ]
  },
  {
   "cell_type": "code",
   "execution_count": 211,
   "id": "10d1caf0",
   "metadata": {},
   "outputs": [],
   "source": [
    "r = np.linspace(0, 1, 100)\n",
    "# Ground truth\n",
    "z = VAL(r, 2.1, 1, 3.5)\n",
    "# Curve found\n",
    "z_ = VAL(r, 2.12237705, 0.97269473, 3.51029404)"
   ]
  },
  {
   "cell_type": "code",
   "execution_count": 227,
   "id": "4554982a",
   "metadata": {},
   "outputs": [
    {
     "data": {
      "text/plain": [
       "<function matplotlib.pyplot.show(close=None, block=None)>"
      ]
     },
     "execution_count": 227,
     "metadata": {},
     "output_type": "execute_result"
    },
    {
     "data": {
      "image/png": "[encoded data removed]",
      "text/plain": [
       "<Figure size 432x288 with 1 Axes>"
      ]
     },
     "metadata": {
      "needs_background": "light"
     },
     "output_type": "display_data"
    }
   ],
   "source": [
    "# Plot the ground truth curve and curve found from the observed data\n",
    "plt.figure(0)\n",
    "plt.scatter(x, y, s=4, label='data point')\n",
    "plt.plot(r, z, 'k', label='Ground truth')\n",
    "plt.plot(r, z_, ':r', label='Curve found')\n",
    "plt.xlabel('Independent (x)')\n",
    "plt.ylabel('Dependent (y)')\n",
    "plt.legend()\n",
    "plt.show"
   ]
  },
  {
   "cell_type": "code",
   "execution_count": 228,
   "id": "eda37f9d",
   "metadata": {},
   "outputs": [],
   "source": [
    "plt.plot?"
   ]
  },
  {
   "cell_type": "code",
   "execution_count": null,
   "id": "acee7518",
   "metadata": {},
   "outputs": [],
   "source": []
  }
 ],
 "metadata": {
  "kernelspec": {
   "display_name": "Python 3 (ipykernel)",
   "language": "python",
   "name": "python3"
  },
  "language_info": {
   "codemirror_mode": {
    "name": "ipython",
    "version": 3
   },
   "file_extension": ".py",
   "mimetype": "text/x-python",
   "name": "python",
   "nbconvert_exporter": "python",
   "pygments_lexer": "ipython3",
   "version": "3.9.7"
  }
 },
 "nbformat": 4,
 "nbformat_minor": 5
}
